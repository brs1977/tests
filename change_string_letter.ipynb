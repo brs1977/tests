{
  "nbformat": 4,
  "nbformat_minor": 0,
  "metadata": {
    "colab": {
      "provenance": [],
      "authorship_tag": "ABX9TyPAgypACnEzORgeeQ659DPv",
      "include_colab_link": true
    },
    "kernelspec": {
      "name": "python3",
      "display_name": "Python 3"
    },
    "language_info": {
      "name": "python"
    }
  },
  "cells": [
    {
      "cell_type": "markdown",
      "metadata": {
        "id": "view-in-github",
        "colab_type": "text"
      },
      "source": [
        "<a href=\"https://colab.research.google.com/github/brs1977/tests/blob/main/change_string_letter.ipynb\" target=\"_parent\"><img src=\"https://colab.research.google.com/assets/colab-badge.svg\" alt=\"Open In Colab\"/></a>"
      ]
    },
    {
      "cell_type": "code",
      "execution_count": 51,
      "metadata": {
        "id": "e7k5c4skJTOr"
      },
      "outputs": [],
      "source": [
        "def change_string_letter1(text, letter, index):\n",
        "    return text[:index] + letter + text[index+1:]\n",
        "\n",
        "def change_string_letter2(text, letter, index):\n",
        "    return ''.join([text[:index], letter, text[index+1:]])\n",
        "\n",
        "def change_string_letter3(text, letter, index):\n",
        "  new = list(text)\n",
        "  new[index] = letter\n",
        "  return ''.join(new)\n",
        "\n",
        "def change_string_letter4(text, letter, index, encoding = 'utf8'):\n",
        "  new = bytearray(text, encoding = encoding)\n",
        "  new[index] = ord(letter)\n",
        "  return new.decode(encoding = encoding)\n",
        "\n"
      ]
    },
    {
      "cell_type": "code",
      "source": [
        "# test\n",
        "import string\n",
        "import random\n",
        "\n",
        "\n",
        "text =  ''.join([random.choice(string.ascii_letters) for _ in range(1)])\n",
        "letter = random.choice(string.ascii_letters)\n",
        "index = random.randint(0, len(text)-1)\n",
        "\n",
        "s1 = change_string_letter1(text, letter, index)\n",
        "s2 = change_string_letter2(text, letter, index)\n",
        "s3 = change_string_letter3(text, letter, index)\n",
        "s4 = change_string_letter4(text, letter, index)\n",
        "\n",
        "\n",
        "assert s1 == s2\n",
        "assert s2 == s3\n",
        "assert s3 == s4\n",
        "\n",
        "text =  ''.join([random.choice(string.ascii_letters) for _ in range(10)])\n",
        "letter = random.choice(string.ascii_letters)\n",
        "index = random.randint(0, len(text)-1)\n",
        "\n",
        "s1 = change_string_letter1(text, letter, index)\n",
        "s2 = change_string_letter2(text, letter, index)\n",
        "s3 = change_string_letter3(text, letter, index)\n",
        "s4 = change_string_letter4(text, letter, index)\n",
        "\n",
        "\n",
        "assert s1 == s2\n",
        "assert s2 == s3\n",
        "assert s3 == s4\n",
        "\n"
      ],
      "metadata": {
        "id": "-rkcMz4tKYW8"
      },
      "execution_count": 53,
      "outputs": []
    },
    {
      "cell_type": "code",
      "source": [
        "text =  ''.join([random.choice(string.ascii_letters) for _ in range(1000)])\n",
        "letter = random.choice(string.ascii_letters)\n",
        "index = random.randint(0, len(text)-1)\n",
        "\n",
        "%timeit change_string_letter1(text, letter, index)\n",
        "%timeit change_string_letter2(text, letter, index)\n",
        "%timeit change_string_letter3(text, letter, index)\n",
        "%timeit change_string_letter4(text, letter, index)\n"
      ],
      "metadata": {
        "colab": {
          "base_uri": "https://localhost:8080/"
        },
        "id": "1GND7hF5RxAq",
        "outputId": "021baebe-995e-4cd6-b132-2b1701e70587"
      },
      "execution_count": 55,
      "outputs": [
        {
          "output_type": "stream",
          "name": "stdout",
          "text": [
            "787 ns ± 223 ns per loop (mean ± std. dev. of 7 runs, 1000000 loops each)\n",
            "661 ns ± 7.02 ns per loop (mean ± std. dev. of 7 runs, 1000000 loops each)\n",
            "18.2 µs ± 2.64 µs per loop (mean ± std. dev. of 7 runs, 100000 loops each)\n",
            "1.09 µs ± 173 ns per loop (mean ± std. dev. of 7 runs, 1000000 loops each)\n"
          ]
        }
      ]
    },
    {
      "cell_type": "code",
      "source": [],
      "metadata": {
        "id": "kR76RUalaYUz"
      },
      "execution_count": 54,
      "outputs": []
    }
  ]
}